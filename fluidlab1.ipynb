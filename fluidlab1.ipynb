{
 "cells": [
  {
   "cell_type": "code",
   "execution_count": 18,
   "metadata": {},
   "outputs": [
    {
     "name": "stdout",
     "output_type": "stream",
     "text": [
      "(1.94193789816139*I, 3.63313220107675*I, 0.00266488076592788*I)\n",
      "2.66488076592788\n",
      "1.5909090909090908\n",
      "1.6875\n",
      "1.0613207547169812\n"
     ]
    }
   ],
   "source": [
    "#section 1\n",
    "from sympy import *\n",
    "\n",
    "diameter_pipe = 41.8 #mm\n",
    "diameter_throat = 30.56 #mm\n",
    "pressure_pipe = 0 #Meters of water\n",
    "pressure_throat = 0.48 #Meters of water\n",
    "rho = 998.5 #kg/m^3\n",
    "g = 9.81 #m/s^2\n",
    "\n",
    "# units to si (meters, pascal, kg/m^3)\n",
    "diameter_pipe = diameter_pipe/1000\n",
    "diameter_throat = diameter_throat/1000\n",
    "pressure_pipe = pressure_pipe*9806.65 # meters column of water\n",
    "pressure_throat = pressure_throat*9806.65\n",
    "\n",
    "# Mass conservation equation\n",
    "V_pipe, V_throat, Q = symbols('V_pipe V_throat Q')\n",
    "eq1 = Eq(V_pipe*pi/4*diameter_pipe**2, V_throat*pi/4*diameter_throat**2)\n",
    "# Bernoulli equation\n",
    "eq2 = Eq(pressure_pipe/(rho*g) + V_pipe**2/(2*g), pressure_throat/(rho*g) + V_throat**2/(2*g))\n",
    "# Mass flow\n",
    "eq3 = Eq(Q, V_pipe*pi/4*diameter_pipe**2)\n",
    "\n",
    "sol = solve([eq1, eq2, eq3], [V_pipe, V_throat, Q])\n",
    "print(sol[1])\n",
    "print(0.00266488076592788*1000)\n",
    "print(3.5 / 2.2 )\n",
    "print(2.7 / 1.6)\n",
    "print(1.6875/1.59)"
   ]
  },
  {
   "cell_type": "code",
   "execution_count": 19,
   "metadata": {},
   "outputs": [
    {
     "name": "stdout",
     "output_type": "stream",
     "text": [
      "[175.131169463268]\n"
     ]
    }
   ],
   "source": [
    "#section 2 air inlet\n",
    "Q = symbols('Q')\n",
    "Q_0 = 400 #liters/min\n",
    "rho_gas = 6.26 # 5.3 bar #21.7 c\n",
    "rho_float = 7800 #kg/m^3\n",
    "rho_float_0 = 7800 #kg/m^3\n",
    "rho_gas_0 = 1.2 # 1 bar, 20 c = kg/m^3\n",
    "eqflow = Eq(Q_0/Q , sqrt( (rho_float_0/rho_float)*(rho_gas/rho_gas_0)))\n",
    "sol = solve(eqflow, Q)\n",
    "print(sol)\n"
   ]
  },
  {
   "cell_type": "code",
   "execution_count": null,
   "metadata": {},
   "outputs": [
    {
     "name": "stdout",
     "output_type": "stream",
     "text": [
      "[9.11010171514768]\n",
      "211.2\n"
     ]
    }
   ],
   "source": [
    "#section 2 air inlet\n",
    "Q = symbols('Q')\n",
    "Q_0 = 4.60 #liters/min\n",
    "rho_gas = 0.30595 # 0.3 bar #54.9 c\n",
    "rho_float = 7800 #kg/m^3\n",
    "rho_float_0 = 7800 #kg/m^3\n",
    "rho_gas_0 = 1.2 # 1 bar, 20 c = kg/m^3\n",
    "eqflow = Eq(Q_0/Q , sqrt( (rho_float_0/rho_float)*(rho_gas/rho_gas_0)))\n",
    "sol = solve(eqflow, Q)\n",
    "print(sol)"
   ]
  },
  {
   "cell_type": "code",
   "execution_count": 3,
   "metadata": {},
   "outputs": [
    {
     "name": "stdout",
     "output_type": "stream",
     "text": [
      "1.1017599999999999\n",
      "0.0027872045\n",
      "1.098973\n"
     ]
    }
   ],
   "source": [
    "#mass flow rate\n",
    "\n",
    "print(176/1000 * 6.26)\n",
    "print(9.11/1000 * 0.30595)\n",
    "print(1.10176 - 0.002787)"
   ]
  }
 ],
 "metadata": {
  "kernelspec": {
   "display_name": "Python 3",
   "language": "python",
   "name": "python3"
  },
  "language_info": {
   "codemirror_mode": {
    "name": "ipython",
    "version": 3
   },
   "file_extension": ".py",
   "mimetype": "text/x-python",
   "name": "python",
   "nbconvert_exporter": "python",
   "pygments_lexer": "ipython3",
   "version": "3.12.9"
  }
 },
 "nbformat": 4,
 "nbformat_minor": 2
}
