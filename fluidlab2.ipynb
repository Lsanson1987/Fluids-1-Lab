{
 "cells": [
  {
   "cell_type": "code",
   "execution_count": null,
   "metadata": {},
   "outputs": [],
   "source": [
    "from sympy import *\n",
    "eq1 = Eq(Reynolds = rho*vel*D/viscocity)\n",
    "eq2 = Eq(head_loss, (f*L/D)*(vel**2)/(2*g))\n",
    "eq3 = Eq(f, 64/Reynolds)\n",
    "eq4 = Eq(secondary_head_loss, k*v**2/(2*g))\n"
   ]
  },
  {
   "cell_type": "code",
   "execution_count": null,
   "metadata": {},
   "outputs": [
    {
     "name": "stdout",
     "output_type": "stream",
     "text": [
      "Q = 4.75e-6\n",
      "vel = 6.73e-1\n",
      "area = 7.07e-6\n",
      "Reynolds = 1.92e+3\n",
      "f = 3.34e-2\n",
      "head_loss = 1.28e-1\n"
     ]
    }
   ],
   "source": [
    "# flow rate and velocity\n",
    "from sympy import *\n",
    "Q, vel, area, f, Reynolds, head_loss, viscocity, rho, L, D, g, k, v, rel_rough = symbols('Q vel area f Reynolds head_loss viscocity rho L D g k v rel_rough')\n",
    "time = 61\n",
    "volume = 290 #mili liters \n",
    "g = 9.81 #m/s^2\n",
    "d = 3 #mm\n",
    "viscocity = 105.2*10**-5 #\n",
    "rho = 998.5 #kg m^3\n",
    "L = 0.5 #meters\n",
    "\n",
    "volume = volume/1000 #convert to liters\n",
    "volume = volume/1000 #convert to cubic meters\n",
    "d = d/1000 #mm to meter\n",
    "\n",
    "\n",
    "eqflow = Eq(Q, volume/time)\n",
    "eqvelocity = Eq(Q, vel*area)\n",
    "eqarea = Eq(area, 3.14169*1/4*d**2)\n",
    "eq1 = Eq(Reynolds, rho*vel*d/viscocity)\n",
    "eq3 = Eq(f, 64/Reynolds)\n",
    "eq2 = Eq(head_loss, (f*L/d)*(vel**2)/(2*g))\n",
    "\n",
    "\n",
    "sol = solve([eqflow, eqvelocity, eqarea, eq1, eq3, eq2], (Q, vel, area, Reynolds, f, head_loss))\n",
    "\n",
    "for var, val in zip((Q, vel, area, Reynolds, f, head_loss), sol[0]):\n",
    "    print(f\"{var} = {val.evalf():.2e}\")\n"
   ]
  },
  {
   "cell_type": "code",
   "execution_count": 18,
   "metadata": {},
   "outputs": [
    {
     "name": "stdout",
     "output_type": "stream",
     "text": [
      "vel = 3.92e+0\n",
      "area = 2.27e-4\n",
      "Reynolds = 6.17e+4\n",
      "f = 7.04e-2\n",
      "head_loss = 3.24e+0\n",
      "h = 3.24e+0\n",
      "rel_rough = 4.77e-2\n"
     ]
    }
   ],
   "source": [
    "# flow rate and velocity\n",
    "from sympy import *\n",
    "vel, area, f, Reynolds, head_loss, viscocity, rho, L, D, g, k, v, rel_rough = symbols('vel area f Reynolds head_loss viscocity rho L D g k v rel_rough')\n",
    "h, rel_rough = symbols('h rel_rough')\n",
    "Q = 3200 #liters per hour \n",
    "# convert to cubic meters per hour\n",
    "Q = Q/1000 #convert to cubic meters\n",
    "Q = Q/3600 #convert to cubic meters per second\n",
    "g = 9.81 #m/s^2\n",
    "d = 17 #mm\n",
    "viscocity = 107.8*10**-5 #\n",
    "rho = 998.7 #kg m^3\n",
    "L = 1 #meters\n",
    "deltP = 317 #mbar \n",
    "# convert to pascal\n",
    "deltP = deltP*100 #convert to pascal\n",
    "\n",
    "d = d/1000 #mm to meter\n",
    "\n",
    "eqh = Eq(h, deltP/(rho*g))\n",
    "eqvelocity = Eq(Q, vel*area)\n",
    "eqarea = Eq(area, 3.14169*1/4*d**2)\n",
    "eq1 = Eq(Reynolds, rho*vel*d/viscocity)\n",
    "eq3 = Eq(f, h/((L/d)*(vel**2)/(2*g)))\n",
    "eq2 = Eq(head_loss, (f*L/d)*(vel**2)/(2*g))\n",
    "#relative rugosity \n",
    "eq4 = Eq(-2*log(rel_rough/3.7 + 2.51/(Reynolds*sqrt(f)), 10), 1/sqrt(f))\n",
    "\n",
    "\n",
    "sol = solve([eqh, eqvelocity, eqarea, eq1, eq3, eq2, eq4], (vel, area, Reynolds, f, head_loss, h, rel_rough))\n",
    "\n",
    "for var, val in zip((vel, area, Reynolds, f, head_loss, h, rel_rough), sol[0]):\n",
    "    print(f\"{var} = {val.evalf():.2e}\")\n"
   ]
  },
  {
   "cell_type": "code",
   "execution_count": 34,
   "metadata": {},
   "outputs": [
    {
     "name": "stdout",
     "output_type": "stream",
     "text": [
      "0.0008888888888888889\n",
      "[(0.561382192364855, 3.91603258114143, 0.718232482366120, 61675.3335430064, 0.610497610011202, 0.000226987102500000)]\n",
      "h = 5.61e-1\n",
      "v = 3.92e+0\n",
      "k = 7.18e-1\n",
      "Reynolds = 6.17e+4\n",
      "Length = 6.10e-1\n",
      "area = 2.27e-4\n"
     ]
    }
   ],
   "source": [
    "# flow rate and velocity\n",
    "from sympy import *\n",
    "h, vel, k, Reynolds, Length, area = symbols('h vel k Reynolds Length area')\n",
    "Q = 3200 #liters per hour \n",
    "# convert to cubic meters per hour\n",
    "Q = Q/1000 #convert to cubic meters\n",
    "Q = Q/3600 #convert to cubic meters per second\n",
    "g = 9.81 #m/s^2\n",
    "d = 17 #mm\n",
    "viscocity = 107.8*10**-5 #\n",
    "rho = 998.7 #kg m^3\n",
    "deltP = 55 #mbar \n",
    "# convert to pascal\n",
    "deltP = deltP*100 #convert to pascal\n",
    "f = 0.02\n",
    "d = d/1000 #mm to meter\n",
    "print(Q)\n",
    "\n",
    "eqh = Eq(h, deltP/(rho*g))\n",
    "eqvelocity = Eq(Q, vel*area)\n",
    "eqarea = Eq(area, 3.14169*1/4*d**2)\n",
    "eq1 = Eq(Reynolds, rho*vel*d/viscocity)\n",
    "eq2 = Eq(h, (f*Length/d)*(vel**2)/(2*g))\n",
    "eq4 = Eq(Length, k*(d/f))\n",
    "eq5 = Eq(h, k*vel**2/(2*g))\n",
    "\n",
    "\n",
    "sol = solve([eqh, eqvelocity, eqarea, eq4, eq1, eq5], (h, vel, k, Reynolds, Length, area))\n",
    "print(sol)\n",
    "for var, val in zip((h, v, k, Reynolds, Length, area), sol[0]):\n",
    "    print(f\"{var} = {val.evalf():.2e}\")\n"
   ]
  }
 ],
 "metadata": {
  "kernelspec": {
   "display_name": "Python 3",
   "language": "python",
   "name": "python3"
  },
  "language_info": {
   "codemirror_mode": {
    "name": "ipython",
    "version": 3
   },
   "file_extension": ".py",
   "mimetype": "text/x-python",
   "name": "python",
   "nbconvert_exporter": "python",
   "pygments_lexer": "ipython3",
   "version": "3.12.9"
  }
 },
 "nbformat": 4,
 "nbformat_minor": 2
}
